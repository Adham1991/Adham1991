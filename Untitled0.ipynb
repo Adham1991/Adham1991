{
  "nbformat": 4,
  "nbformat_minor": 0,
  "metadata": {
    "colab": {
      "name": "Untitled0.ipynb",
      "provenance": [],
      "authorship_tag": "ABX9TyN6Th6ISC615qIm0Ld//NG7",
      "include_colab_link": true
    },
    "kernelspec": {
      "name": "python3",
      "display_name": "Python 3"
    },
    "language_info": {
      "name": "python"
    }
  },
  "cells": [
    {
      "cell_type": "markdown",
      "metadata": {
        "id": "view-in-github",
        "colab_type": "text"
      },
      "source": [
        "<a href=\"https://colab.research.google.com/github/Adham1991/Adham1991/blob/main/Untitled0.ipynb\" target=\"_parent\"><img src=\"https://colab.research.google.com/assets/colab-badge.svg\" alt=\"Open In Colab\"/></a>"
      ]
    },
    {
      "cell_type": "code",
      "metadata": {
        "id": "9FQKq05ho3ir"
      },
      "source": [
        ""
      ],
      "execution_count": null,
      "outputs": []
    },
    {
      "cell_type": "code",
      "metadata": {
        "colab": {
          "base_uri": "https://localhost:8080/"
        },
        "id": "55KBHGxZpF5o",
        "outputId": "d4fb3a48-e93c-44ba-d159-df436b098f7a"
      },
      "source": [
        "print(\"Bonjours auditeurs UTC503!\")\n",
        "a,b=0,10\n",
        "if (a == 0):\n",
        "  x=b\n",
        "else:\n",
        "  x = a + b\n",
        "\n",
        "#La ligne blanche au dessu exprime la fin du if (tout simplement) ou le retour a la tabulation précedente\n",
        "while (x < 15):\n",
        "  print(x)\n",
        "  x =  x + 1\n",
        "\n",
        "print(a,b,x)\n"
      ],
      "execution_count": null,
      "outputs": [
        {
          "output_type": "stream",
          "name": "stdout",
          "text": [
            "Bonjours auditeurs UTC503!\n",
            "10\n",
            "11\n",
            "12\n",
            "13\n",
            "14\n",
            "0 10 15\n"
          ]
        }
      ]
    },
    {
      "cell_type": "code",
      "metadata": {
        "colab": {
          "base_uri": "https://localhost:8080/"
        },
        "id": "2ZJ9Lu0tBR0L",
        "outputId": "6ced5424-11d6-48d6-e830-b270a7fbda5e"
      },
      "source": [
        "x,a = 0,0\n",
        "print(\"1.\",x,a,sep=\" : \")\n",
        "while (x < 10):\n",
        "  x = x + 1\n",
        "  print(\"2.* Dans la boucle x=\", x, sep=\"\", end=\" \")\n",
        "  a = a + 1\n",
        "print(\"\\n3. a la sortie de la boucle x>=10\", x)\n",
        "print(\"4. Que vaut a?\", a)"
      ],
      "execution_count": null,
      "outputs": [
        {
          "output_type": "stream",
          "name": "stdout",
          "text": [
            "1. : 0 : 0\n",
            "2.* Dans la boucle x=1 2.* Dans la boucle x=2 2.* Dans la boucle x=3 2.* Dans la boucle x=4 2.* Dans la boucle x=5 2.* Dans la boucle x=6 2.* Dans la boucle x=7 2.* Dans la boucle x=8 2.* Dans la boucle x=9 2.* Dans la boucle x=10 \n",
            "3. a la sortie de la boucle x>=10 10\n",
            "4. Que vaut a? 10\n"
          ]
        }
      ]
    },
    {
      "cell_type": "code",
      "metadata": {
        "colab": {
          "base_uri": "https://localhost:8080/"
        },
        "id": "9LxEn04XBagW",
        "outputId": "55083138-2aa1-48e3-dc28-7b068f36c311"
      },
      "source": [
        "x,a = 0,0\n",
        "print(\"1.\",x,a,sep=\" : \")\n",
        "\n",
        "while (x < 5):\n",
        "  x = x + 1\n",
        "  print(\"2.* Dans la boucle x=\", x, sep=\"\", end=\" \")\n",
        "  a = a + 1\n",
        "\n",
        "print(\"\\n3. a la sortie de la boucle x>=10\", x)\n",
        "print(\"4. Que vaut a?\", a)"
      ],
      "execution_count": null,
      "outputs": [
        {
          "output_type": "stream",
          "name": "stdout",
          "text": [
            "1. : 0 : 0\n",
            "2.* Dans la boucle x=1 2.* Dans la boucle x=2 2.* Dans la boucle x=3 2.* Dans la boucle x=4 2.* Dans la boucle x=5 \n",
            "3. a la sortie de la boucle x>=10 5\n",
            "4. Que vaut a? 5\n"
          ]
        }
      ]
    },
    {
      "cell_type": "code",
      "metadata": {
        "id": "xuF6rjIy6_El",
        "colab": {
          "base_uri": "https://localhost:8080/",
          "height": 163
        },
        "outputId": "cdf7119b-feeb-467d-fb77-b49e9c43ed0f"
      },
      "source": [
        "help(wget)\n"
      ],
      "execution_count": null,
      "outputs": [
        {
          "output_type": "error",
          "ename": "NameError",
          "evalue": "ignored",
          "traceback": [
            "\u001b[0;31m---------------------------------------------------------------------------\u001b[0m",
            "\u001b[0;31mNameError\u001b[0m                                 Traceback (most recent call last)",
            "\u001b[0;32m<ipython-input-1-c971292d9dce>\u001b[0m in \u001b[0;36m<module>\u001b[0;34m()\u001b[0m\n\u001b[0;32m----> 1\u001b[0;31m \u001b[0mhelp\u001b[0m\u001b[0;34m(\u001b[0m\u001b[0mwget\u001b[0m\u001b[0;34m)\u001b[0m\u001b[0;34m\u001b[0m\u001b[0;34m\u001b[0m\u001b[0m\n\u001b[0m",
            "\u001b[0;31mNameError\u001b[0m: name 'wget' is not defined"
          ]
        }
      ]
    },
    {
      "cell_type": "code",
      "metadata": {
        "colab": {
          "base_uri": "https://localhost:8080/"
        },
        "id": "uASGcKv47kjo",
        "outputId": "7298ca9b-6c19-44ec-9b06-95a6dfb47c3b"
      },
      "source": [
        "x=[1,2]\n",
        "l=[10,8,x,0,100]\n",
        "type (l)\n",
        "dir(l)\n",
        "l[-3]\n",
        "print (l[1:3],l[1:])"
      ],
      "execution_count": null,
      "outputs": [
        {
          "output_type": "stream",
          "name": "stdout",
          "text": [
            "[8, [1, 2]] [8, [1, 2], 0, 100]\n"
          ]
        }
      ]
    },
    {
      "cell_type": "code",
      "metadata": {
        "colab": {
          "base_uri": "https://localhost:8080/"
        },
        "id": "82ce31C3-wk7",
        "outputId": "ab3cc3b7-e47e-4a15-d3b6-f95e1a62d271"
      },
      "source": [
        "print(f\"tete={l[1:]}\")#formated print"
      ],
      "execution_count": null,
      "outputs": [
        {
          "output_type": "stream",
          "name": "stdout",
          "text": [
            "tete=[8, [1, 2], 0, 100]\n"
          ]
        }
      ]
    },
    {
      "cell_type": "code",
      "metadata": {
        "id": "5g3qiW66HNdY",
        "colab": {
          "base_uri": "https://localhost:8080/"
        },
        "outputId": "937d0864-2596-4823-b98f-adcec128b7d5"
      },
      "source": [
        "t=(1,2)\n",
        "dir(t)"
      ],
      "execution_count": null,
      "outputs": [
        {
          "output_type": "execute_result",
          "data": {
            "text/plain": [
              "['__add__',\n",
              " '__class__',\n",
              " '__contains__',\n",
              " '__delattr__',\n",
              " '__dir__',\n",
              " '__doc__',\n",
              " '__eq__',\n",
              " '__format__',\n",
              " '__ge__',\n",
              " '__getattribute__',\n",
              " '__getitem__',\n",
              " '__getnewargs__',\n",
              " '__gt__',\n",
              " '__hash__',\n",
              " '__init__',\n",
              " '__init_subclass__',\n",
              " '__iter__',\n",
              " '__le__',\n",
              " '__len__',\n",
              " '__lt__',\n",
              " '__mul__',\n",
              " '__ne__',\n",
              " '__new__',\n",
              " '__reduce__',\n",
              " '__reduce_ex__',\n",
              " '__repr__',\n",
              " '__rmul__',\n",
              " '__setattr__',\n",
              " '__sizeof__',\n",
              " '__str__',\n",
              " '__subclasshook__',\n",
              " 'count',\n",
              " 'index']"
            ]
          },
          "metadata": {},
          "execution_count": 21
        }
      ]
    },
    {
      "cell_type": "markdown",
      "metadata": {
        "id": "z-86XUQ2qvnW"
      },
      "source": [
        ""
      ]
    },
    {
      "cell_type": "code",
      "metadata": {
        "colab": {
          "base_uri": "https://localhost:8080/"
        },
        "id": "KvTPVPTMqxHl",
        "outputId": "9cb0c187-accc-466e-e944-59fb72d5a00a"
      },
      "source": [
        "x=3\n",
        "type(x)\n",
        "x=3.0\n",
        "type(x)\n",
        "x=\"abcd\"\n",
        "type(x)\n",
        "x=3+2j\n",
        "type(x)\n",
        "x=0b0011\n",
        "print(x)\n",
        "x=0xff\n",
        "print(x)"
      ],
      "execution_count": null,
      "outputs": [
        {
          "output_type": "stream",
          "name": "stdout",
          "text": [
            "3\n",
            "255\n"
          ]
        }
      ]
    },
    {
      "cell_type": "code",
      "metadata": {
        "colab": {
          "base_uri": "https://localhost:8080/"
        },
        "id": "6p3VUNq1Rqcj",
        "outputId": "456a1ca8-828f-4d1b-8ccf-866ef8a8db49"
      },
      "source": [
        "ba=0b1100\n",
        "bb=0b0011\n",
        "print(ba | bb)# 1 ou 1 = 1 / 1 ou 0 = 1 / 0 ou 0 = 0\n",
        "print(ba & bb)# 1 et 1 = 1 / 1 et 0 = 0 / 0 et 0 = 0\n",
        "print(ba >>1)# decalage a droite 0110 :pour un binaire c'est diviser par 2\n",
        "print(bb <<1)# decalage a gauche 0110 :pour un binaire c'est multiplier par 2"
      ],
      "execution_count": null,
      "outputs": [
        {
          "output_type": "stream",
          "name": "stdout",
          "text": [
            "15\n",
            "0\n",
            "6\n",
            "6\n"
          ]
        }
      ]
    }
  ]
}