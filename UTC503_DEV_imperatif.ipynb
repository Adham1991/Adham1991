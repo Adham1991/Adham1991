{
  "nbformat": 4,
  "nbformat_minor": 0,
  "metadata": {
    "colab": {
      "name": "UTC503_DEV_imperatif.ipynb",
      "provenance": [],
      "include_colab_link": true
    },
    "kernelspec": {
      "name": "python3",
      "display_name": "Python 3"
    }
  },
  "cells": [
    {
      "cell_type": "markdown",
      "metadata": {
        "id": "view-in-github",
        "colab_type": "text"
      },
      "source": [
        "<a href=\"https://colab.research.google.com/github/Adham1991/Adham1991/blob/main/UTC503_DEV_imperatif.ipynb\" target=\"_parent\"><img src=\"https://colab.research.google.com/assets/colab-badge.svg\" alt=\"Open In Colab\"/></a>"
      ]
    },
    {
      "cell_type": "markdown",
      "metadata": {
        "id": "pL7zrNg5BmFM"
      },
      "source": [
        "# Exercice Programmation impérative"
      ]
    },
    {
      "cell_type": "markdown",
      "metadata": {
        "id": "NhzBMuMGBy7u"
      },
      "source": [
        "La méthode `count` sur une chaine de caractère `str.count(sub)` Renvoie le nombre d'occurrences non superposées de la sous-chaîne sub"
      ]
    },
    {
      "cell_type": "code",
      "metadata": {
        "colab": {
          "base_uri": "https://localhost:8080/"
        },
        "id": "SzWSdzZeCndH",
        "outputId": "6414afbb-240e-4fd7-fd5d-b3ccdf407923"
      },
      "source": [
        "# Exemples\n",
        "print('abcdefbcfgbcx'.count('bc'))"
      ],
      "execution_count": 1,
      "outputs": [
        {
          "output_type": "stream",
          "name": "stdout",
          "text": [
            "3\n"
          ]
        }
      ]
    },
    {
      "cell_type": "markdown",
      "metadata": {
        "id": "zejzzayhC6Ic"
      },
      "source": [
        "## **Exercice 1** : Ecrire une fonction count(str, sub) qui donne le même résultat. Vous devez écrire l'algorithme vous même (**ne pas utiliser la méthode count!**)"
      ]
    },
    {
      "cell_type": "code",
      "metadata": {
        "id": "bwjt8Y3sDXfV",
        "colab": {
          "base_uri": "https://localhost:8080/"
        },
        "outputId": "5c69d9bc-a9a7-4122-cd6a-630161e2757f"
      },
      "source": [
        "def count(strr, sub):\n",
        "  arrstr=strr.split(sub)\n",
        "  return len(arrstr)-1\n",
        "  \n",
        "print(count(\"abcdefbcfgbcx\",'bc'))\n"
      ],
      "execution_count": 28,
      "outputs": [
        {
          "output_type": "stream",
          "name": "stdout",
          "text": [
            "3\n"
          ]
        }
      ]
    },
    {
      "cell_type": "code",
      "metadata": {
        "id": "hcbqSg33Desz"
      },
      "source": [
        "#Ne pas toucher cette case\n",
        "def test_count(str, sub):\n",
        "  assert count(str, sub) == str.count(sub)"
      ],
      "execution_count": 24,
      "outputs": []
    },
    {
      "cell_type": "code",
      "metadata": {
        "colab": {
          "base_uri": "https://localhost:8080/"
        },
        "id": "idRILlKpD6p1",
        "outputId": "928934a7-6db4-433a-ed05-9af951e794bd"
      },
      "source": [
        "# Ni celle ci\n",
        "for str, sub in zip(['abcdabdeabgf', 'abbbcdddcdeeeeca'],['ab', 'bc']):\n",
        "  print(f'test de {str:>20},{sub}')\n",
        "  test_count(str,sub)"
      ],
      "execution_count": 29,
      "outputs": [
        {
          "output_type": "stream",
          "name": "stdout",
          "text": [
            "test de         abcdabdeabgf,ab\n",
            "test de     abbbcdddcdeeeeca,bc\n"
          ]
        }
      ]
    },
    {
      "cell_type": "code",
      "metadata": {
        "id": "c8oBtXwnEqa1"
      },
      "source": [
        "zip(['abcdabdeabgf', 'abbbcdddcdeeeeca'],['ab', 'bc'])"
      ],
      "execution_count": null,
      "outputs": []
    },
    {
      "cell_type": "markdown",
      "metadata": {
        "id": "FOvtAh7rBxxG"
      },
      "source": [
        "## **exercice 2**\n",
        "Un programme principal saisit une chaîne d'ADN valide et une séquence d'ADN valide (valide signifie qu'elles ne sont pas vides et sont formées exclusivement d'une combinaison arbitraire de \"a\", \"t\", \"g\" ou \"c\").\n",
        "\n",
        "Écrire une fonction valide qui renvoie vrai si la saisie est valide, faux sinon.\n",
        "\n",
        "Écrire une fonction saisie qui effectue une saisie valide et renvoie la valeur saisie sous forme d'une chaîne de caractères.\n",
        "\n",
        "Écrire une fonction proportion qui reçoit deux arguments, la chaîne et la séquence et qui retourne la proportion de séquence dans la chaîne (c'est-à-dire son nombre d'occurrences).\n",
        "\n",
        "Le programme principal appelle la fonction saisie pour la chaîne et pour la séquence et affiche le résultat.\n"
      ]
    },
    {
      "cell_type": "code",
      "metadata": {
        "id": "cQpCBlWyBfRl",
        "colab": {
          "base_uri": "https://localhost:8080/"
        },
        "outputId": "c24acfa7-012f-4a6c-dea2-d7e247a6a2d4"
      },
      "source": [
        "#@TODO completer (remplacer les pass par ce qu'il faut)\n",
        "\"\"\"Proportion d'une séquence dans une chaîne d'ADN.\"\"\"\n",
        "\n",
        "# Ecrire ces 2 fonctions ~~~~~~~~~~~~~~~~~~~~~~~~~~~~~~~~~~~~~~~~~~~~~~~~~~\n",
        "def valide(seq) :\n",
        "    \"\"\"Retourne vrai si la séquence est valide, faux sinon.\"\"\"\n",
        "    val=\"atgc\"\n",
        "    for i in seq:\n",
        "      if i not in val: return False\n",
        "    return True\n",
        "\n",
        "\n",
        "\n",
        "def proportion(a, s) :\n",
        "    \"\"\"Retourne la proportion de la séquence <s> dans la chaîne <a>.\"\"\"\n",
        "    arrstr=a.split(s)\n",
        "    return len(arrstr)-1 \n",
        "\n",
        "# A partir d'ici vous n'avez rien à changer ===============================\n",
        "def saisie(ch) :\n",
        "    s = input(f\"{ch:>10} :\")\n",
        "    while not valide(s) :\n",
        "        print(f\"{ch:>10} ne peut contenir que les chaînons 'a', 't', 'g' et 'c'\"\n",
        "              \" et ne doit pas être vide\")\n",
        "        s = input(f\"{ch:>10} :\")\n",
        "    return s\n",
        "\n",
        "# Programme principal \n",
        "\n",
        "adn = saisie(\"chaîne\")\n",
        "seq = saisie(\"séquence\")\n",
        "\n",
        "print(proportion(adn,seq))\n",
        "print(f'Il y a {proportion(adn, seq):.2f} % de\"{seq}\" dans votre chaîne.')"
      ],
      "execution_count": 48,
      "outputs": [
        {
          "output_type": "stream",
          "name": "stdout",
          "text": [
            "    chaîne :acacacaca\n",
            "  séquence :t\n",
            "0\n",
            "Il y a 0.00 % de\"t\" dans votre chaîne.\n"
          ]
        }
      ]
    },
    {
      "cell_type": "markdown",
      "metadata": {
        "id": "zLA5jurCKnzd"
      },
      "source": [
        "# exercice 3\n",
        "Nombres parfaits et nombres chanceux.\n",
        "\n",
        "* On appelle nombre premier tout entier naturel supérieur à 1 qui possède exactement deux diviseurs, lui-même et l'unité.\n",
        "* On appelle diviseur propre de n, un diviseur quelconque de n, n exclu.\n",
        "* Un entier naturel est dit parfait s'il est égal à la somme de tous ses diviseurs propres.\n",
        "* Un entier n tel que : ($n+i+i^2$) est premier pour tout i dans [0,n−2] est dit chanceux.\n",
        "\n",
        "**Écrire les quatre fonctions : somDiv, estParfait, estPremier, estChanceux et un autotest.**\n",
        "\n",
        "* La fonction somDiv retourne la somme des diviseurs propres de son argument.\n",
        "* Les trois autres fonctions vérifient la propriété donnée par leur définition et retourne un booléen. \n",
        "\n",
        "Si par exemple la fonction estPremier vérifie que son argument est premier, elle retourne True, sinon elle retourne False.\n",
        "La partie de test doit comporter quatre appels à la fonction verif permettant de tester somDiv(12), estParfait(6), estPremier(31) et estChanceux(11)."
      ]
    },
    {
      "cell_type": "code",
      "metadata": {
        "id": "vV82xzynLfXz",
        "colab": {
          "base_uri": "https://localhost:8080/"
        },
        "outputId": "02b94468-da23-451c-f29e-4d3978b62183"
      },
      "source": [
        "#@TODO completer (remplacer les pass par ce qu'il faut)\n",
        "# Définition de fonction ~~~~~~~~~~~~~~~~~~~~~~~~~~~~~~~~~~~~~~~~~~~~~~~~~~~~~~\n",
        "def somDiv(n) :\n",
        "    \"\"\"Retourne la somme des diviseurs propres de <n>.\"\"\"\n",
        "    som=0\n",
        "    for i in range(1,n):\n",
        "        if n%i==0: \n",
        "          som=som+i\n",
        "    return som\n",
        "\n",
        "def estParfait(n) :\n",
        "    \"\"\"Retourne True si <n> est parfait, False sinon.\"\"\"\n",
        "    if n==somDiv(n):\n",
        "      return True\n",
        "    return False\n",
        "         \n",
        "\n",
        "def estPremier(n):\n",
        "    \"\"\"Retourne True si <n> est premier, False sinon.\"\"\"\n",
        "    for i in range(2,n):\n",
        "        if n%i==0:\n",
        "            return False      \n",
        "    return True\n",
        "            \n",
        "\n",
        "def estChanceux(n) :\n",
        "    \"\"\"Retourne True si <n> est chanceux, False sinon.\"\"\"\n",
        "    for i in range(0,n-1):\n",
        "      if estPremier(n+i+(i*i))==False:return False\n",
        "      return True\n",
        "\n",
        "# Auto-test ===================================================================\n",
        "if __name__== '__main__' :\n",
        "    print(somDiv(12))\n",
        "    print(estParfait(6))\n",
        "    print(estPremier(31))\n",
        "    print(estChanceux(11))"
      ],
      "execution_count": 88,
      "outputs": [
        {
          "output_type": "stream",
          "name": "stdout",
          "text": [
            "16\n",
            "True\n",
            "True\n",
            "True\n"
          ]
        }
      ]
    }
  ]
}